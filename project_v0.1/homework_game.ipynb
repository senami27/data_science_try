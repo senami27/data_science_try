{
 "cells": [
  {
   "cell_type": "markdown",
   "metadata": {},
   "source": [
    "# Игра угадай число"
   ]
  },
  {
   "cell_type": "code",
   "execution_count": null,
   "metadata": {},
   "outputs": [],
   "source": [
    "\"\"\"\"Игра угадай число\n",
    "Компьютер сам загадывает и сам угадывает\"\"\"\n",
    "\n",
    "import numpy as np\n",
    "\n",
    "def random_predict(number:int=1) -> int:\n",
    "    \"\"\"\"Рандомно угадываем число\n",
    "    \n",
    "    Args:\n",
    "        number (int, optional): Загаданное число. Default to 1.\n",
    "    \n",
    "    Returns:\n",
    "        int: Число попыток\n",
    "    \"\"\"\n",
    "    count = 0\n",
    "    min = 1\n",
    "    max = 100\n",
    "    \n",
    "    while True:\n",
    "        count += 1\n",
    "        mid = round((min+max) / 2)\n",
    "        predict_number = np.random.randint(min,max)\n",
    "        print(number,predict_number,mid)\n",
    "        if number == predict_number:\n",
    "            break\n",
    "        elif mid > number:\n",
    "            max = mid\n",
    "        else:\n",
    "            min = mid\n",
    "    return(count)\n",
    "\n",
    "#print(f'Количество попыток: {random_predict()}')\n",
    "\n",
    "def score_game(random_predict) -> int:\n",
    "    \"\"\"Среднее количество попыток за 1000 подходов для угадывания\n",
    "\n",
    "    Args:\n",
    "        random_predict (_type_): Функция угадывания\n",
    "\n",
    "    Returns:\n",
    "        Среднее количество попыток\n",
    "    \"\"\"\n",
    "    count_ls = [] # список для сохранения количества попыток\n",
    "    np.random.seed(1) # фиксируем сид для воспроизводимости\n",
    "    random_array = np.random.randint(1, 100, size=(1000)) #загадали список чисел\n",
    "    \n",
    "    for number in random_array:\n",
    "        count_ls.append(random_predict(number))\n",
    "    \n",
    "    score = int(np.mean(count_ls)) # находим среднее количество попыток\n",
    "    print(f'Ваш алгоритм угадывает число в среднем за: {score} попыток')\n",
    "    return(score)\n",
    "\n",
    "if __name__ == \"__main__\":\n",
    "    #RUN\n",
    "    score_game(random_predict)"
   ]
  },
  {
   "cell_type": "markdown",
   "metadata": {},
   "source": [
    "## Угадываем рандомно"
   ]
  },
  {
   "cell_type": "code",
   "execution_count": null,
   "metadata": {},
   "outputs": [],
   "source": [
    "score_game(random_predict)"
   ]
  }
 ],
 "metadata": {
  "kernelspec": {
   "display_name": "Python 3.11.0 64-bit",
   "language": "python",
   "name": "python3"
  },
  "language_info": {
   "codemirror_mode": {
    "name": "ipython",
    "version": 3
   },
   "file_extension": ".py",
   "mimetype": "text/x-python",
   "name": "python",
   "nbconvert_exporter": "python",
   "pygments_lexer": "ipython3",
   "version": "3.11.0"
  },
  "orig_nbformat": 4,
  "vscode": {
   "interpreter": {
    "hash": "31064f0ec02ac087b4831bd6b19791d97129bf50750d7b3887cc01c31f8b4b70"
   }
  }
 },
 "nbformat": 4,
 "nbformat_minor": 2
}
